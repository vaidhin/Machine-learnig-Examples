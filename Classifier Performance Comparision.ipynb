{
 "cells": [
  {
   "cell_type": "code",
   "execution_count": 2,
   "metadata": {
    "collapsed": false
   },
   "outputs": [
    {
     "name": "stdout",
     "output_type": "stream",
     "text": [
      "Accuracy for DecisionTree: 100.0\n",
      "Accuracy for SVM: 100.0\n",
      "Accuracy for perceptron: 54.5454545455\n",
      "Accuracy for KNN: 72.7272727273\n",
      "Best gender classifier is SVM\n"
     ]
    }
   ],
   "source": [
    "#This example compares the performance of various classifiers available in Scikit learn\n",
    "#Here we define our own data set for male and female classification with three attributes each\n",
    "#Finally we print the classifier name which has the best performance\n",
    "\n",
    "from sklearn import tree\n",
    "from sklearn.svm import SVC\n",
    "from sklearn.linear_model import Perceptron\n",
    "from sklearn.neighbors import KNeighborsClassifier\n",
    "from sklearn.metrics import accuracy_score\n",
    "import numpy as np\n",
    "\n",
    "# Data and labels\n",
    "X = [[181, 80, 44], [177, 70, 43], [160, 60, 38], [154, 54, 37], [166, 65, 40], [190, 90, 47], [175, 64, 39],\n",
    "     [177, 70, 40], [159, 55, 37], [171, 75, 42], [181, 85, 43]]\n",
    "\n",
    "Y = ['male', 'male', 'female', 'female', 'male', 'male', 'female', 'female', 'female', 'male', 'male']\n",
    "\n",
    "# Classifiers\n",
    "# using the default values for all the hyperparameters\n",
    "clf_tree = tree.DecisionTreeClassifier()\n",
    "clf_svm = SVC()\n",
    "clf_perceptron = Perceptron()\n",
    "clf_KNN = KNeighborsClassifier()\n",
    "\n",
    "# Training the models\n",
    "clf_tree.fit(X, Y)\n",
    "clf_svm.fit(X, Y)\n",
    "clf_perceptron.fit(X, Y)\n",
    "clf_KNN.fit(X, Y)\n",
    "\n",
    "# Testing using the same data\n",
    "pred_tree = clf_tree.predict(X)\n",
    "acc_tree = accuracy_score(Y, pred_tree) * 100\n",
    "print('Accuracy for DecisionTree: {}'.format(acc_tree))\n",
    "\n",
    "pred_svm = clf_svm.predict(X)\n",
    "acc_svm = accuracy_score(Y, pred_svm) * 100\n",
    "print('Accuracy for SVM: {}'.format(acc_svm))\n",
    "\n",
    "pred_per = clf_perceptron.predict(X)\n",
    "acc_per = accuracy_score(Y, pred_per) * 100\n",
    "print('Accuracy for perceptron: {}'.format(acc_per))\n",
    "\n",
    "pred_KNN = clf_KNN.predict(X)\n",
    "acc_KNN = accuracy_score(Y, pred_KNN) * 100\n",
    "print('Accuracy for KNN: {}'.format(acc_KNN))\n",
    "\n",
    "# The best classifier from svm, per, KNN\n",
    "index = np.argmax([acc_svm, acc_per, acc_KNN])\n",
    "classifiers = {0: 'SVM', 1: 'Perceptron', 2: 'KNN'}\n",
    "print('Best gender classifier is {}'.format(classifiers[index]))"
   ]
  },
  {
   "cell_type": "code",
   "execution_count": null,
   "metadata": {
    "collapsed": true
   },
   "outputs": [],
   "source": []
  }
 ],
 "metadata": {
  "anaconda-cloud": {},
  "kernelspec": {
   "display_name": "Python [default]",
   "language": "python",
   "name": "python2"
  },
  "language_info": {
   "codemirror_mode": {
    "name": "ipython",
    "version": 2
   },
   "file_extension": ".py",
   "mimetype": "text/x-python",
   "name": "python",
   "nbconvert_exporter": "python",
   "pygments_lexer": "ipython2",
   "version": "2.7.12"
  }
 },
 "nbformat": 4,
 "nbformat_minor": 1
}
